{
 "cells": [
  {
   "cell_type": "markdown",
   "id": "ddd31ee3",
   "metadata": {},
   "source": [
    "## Linear Regression Model\n",
    "\n",
    "#### Goal:\n",
    "Implement model $f_{(w,b)}$ for linear regression in one variable\n",
    "\n",
    "#### Notation:\n",
    "\n",
    "| Notation | Descripton | Python|\n",
    "|:--------:|:----------:|:------:|\n",
    "|*a*| scalar, non bold | |\n",
    "|**a** | vector, bold | |\n",
    "|**Regression**| | |\n",
    "|**x**|Training example feature values|x_train|\n",
    "|**y**|Training example targets|y_train|\n",
    "|$x^{(i)}, y^{(i)}$|$i_{th}$ Training examples|x_i, y_i|\n",
    "|m|Number of training examples|m|\n",
    "|w|parameter: weight|w|\n",
    "|b|parameter: bias|b|\n",
    "|$f_{(w,b)}(x^{(i)})$|a function of $x^{(i)}$ parameterized by w,b: $f_{(w,b)}(x^{(i)}) = wx^{(i)} + b$|f_wb|\n",
    "\n",
    "#### Tools:\n",
    "1. NumPy - library for scientific computing\n",
    "2. Matplotlib - library for plotting data"
   ]
  },
  {
   "cell_type": "code",
   "execution_count": 1,
   "id": "3eb242f7",
   "metadata": {},
   "outputs": [],
   "source": [
    "import numpy as np\n",
    "import matplotlib.pyplot as plt"
   ]
  },
  {
   "cell_type": "markdown",
   "id": "68d59289",
   "metadata": {},
   "source": [
    "#### Training Set:\n",
    "Using a simple data set with only two points as the training data. Predicting the price of the house with 1200 sq.ft. by using a linear regression model"
   ]
  },
  {
   "cell_type": "code",
   "execution_count": 2,
   "id": "399433b0",
   "metadata": {},
   "outputs": [],
   "source": [
    "# x_train is the input variable (size in 1000 square feet)\n",
    "# y_train is the target (price in 1000s of dollar)\n",
    "x_train = np.array([1.0, 2.0]);\n",
    "y_train = np.array([300, 500]);"
   ]
  },
  {
   "cell_type": "code",
   "execution_count": 3,
   "id": "8980ac01",
   "metadata": {},
   "outputs": [
    {
     "name": "stdout",
     "output_type": "stream",
     "text": [
      "Number of training examples is: 2\n"
     ]
    }
   ],
   "source": [
    "# m is the number of training examples\n",
    "m = len(x_train)\n",
    "print(f\"Number of training examples is: {m}\")"
   ]
  },
  {
   "cell_type": "markdown",
   "id": "bcc33158",
   "metadata": {},
   "source": [
    "#### Training Examples x_i, y_i:\n",
    "$(x^{(0)}, y^{(0)})$ is (1.0, 300) and $(x^{(1)}, y^{(1)})$ is (2.0, 500)"
   ]
  },
  {
   "cell_type": "code",
   "execution_count": 4,
   "id": "670132b6",
   "metadata": {},
   "outputs": [
    {
     "name": "stdout",
     "output_type": "stream",
     "text": [
      "(x^(0), y^(0)) = (1.0, 300)\n"
     ]
    }
   ],
   "source": [
    "i = 0 # Change this to 1 to see {x^1, y^1}\n",
    "\n",
    "x_i = x_train[i]\n",
    "y_i = y_train[i]\n",
    "print(f\"(x^({i}), y^({i})) = ({x_i}, {y_i})\")"
   ]
  },
  {
   "cell_type": "code",
   "execution_count": 5,
   "id": "9d475a98",
   "metadata": {},
   "outputs": [
    {
     "data": {
      "image/png": "[encoded data removed]",
      "text/plain": [
       "<Figure size 432x288 with 1 Axes>"
      ]
     },
     "metadata": {
      "needs_background": "light"
     },
     "output_type": "display_data"
    }
   ],
   "source": [
    "# Plotting the data\n",
    "plt.scatter(x_train, y_train, marker='x', c='r')\n",
    "# Set the title\n",
    "plt.title(\"Housing Price\")\n",
    "# Set the y-axis label\n",
    "plt.ylabel('Price (in 1000s of dollars)')\n",
    "# Set the x-axis label\n",
    "plt.xlabel('Size (1000 sqft)')\n",
    "plt.show()"
   ]
  },
  {
   "cell_type": "markdown",
   "id": "fb999461",
   "metadata": {},
   "source": [
    "#### Model Function:\n",
    "$f_{w,b}(x^{(i)}) = wx^{(i)} + b$\n",
    "\n",
    "This formula represents straight lines\n",
    "\n",
    "let, w=100 and b=100"
   ]
  },
  {
   "cell_type": "code",
   "execution_count": 6,
   "id": "abfdcb6d",
   "metadata": {},
   "outputs": [
    {
     "name": "stdout",
     "output_type": "stream",
     "text": [
      "w: 100\n",
      "b: 100\n"
     ]
    }
   ],
   "source": [
    "w = 100\n",
    "b = 100\n",
    "print(f\"w: {w}\")\n",
    "print(f\"b: {b}\")"
   ]
  },
  {
   "cell_type": "markdown",
   "id": "9f7b5527",
   "metadata": {},
   "source": [
    "Now, let us calculate the value of $f_{w,b}(x^{i})$ for the data points as -\n",
    "for $x^{(0)}$, $f_wb = w * x[0] + b$\n",
    "for $x^{(1)}$, $f_wb = w * x[1] + b$"
   ]
  },
  {
   "cell_type": "code",
   "execution_count": 7,
   "id": "39d5830d",
   "metadata": {},
   "outputs": [],
   "source": [
    "def calculate_model_output(w,b,x):\n",
    "    m = x.shape\n",
    "    f_wb = np.zeros(m)\n",
    "    for i in range(len(x)):\n",
    "        f_wb[i] = w * x[i] + b\n",
    "    \n",
    "    return f_wb"
   ]
  },
  {
   "cell_type": "code",
   "execution_count": 8,
   "id": "0437e980",
   "metadata": {},
   "outputs": [
    {
     "name": "stdout",
     "output_type": "stream",
     "text": [
      "[200. 300.]\n"
     ]
    }
   ],
   "source": [
    "tmp_f_wb = calculate_model_output(w, b, x_train)\n",
    "print(tmp_f_wb)"
   ]
  },
  {
   "cell_type": "code",
   "execution_count": 9,
   "id": "5cf5f66c",
   "metadata": {},
   "outputs": [
    {
     "data": {
      "image/png": "[encoded data removed]",
      "text/plain": [
       "<Figure size 432x288 with 1 Axes>"
      ]
     },
     "metadata": {
      "needs_background": "light"
     },
     "output_type": "display_data"
    }
   ],
   "source": [
    "# Plot our model prediction\n",
    "plt.plot(x_train, tmp_f_wb, c='b', label='Our Prediction')\n",
    "\n",
    "# PLot the data points\n",
    "plt.scatter(x_train, y_train, marker='x', c='r', label='Actual Prediction')\n",
    "\n",
    "# Set the title\n",
    "plt.title(\"Housing Price\")\n",
    "# Set the y-axis label\n",
    "plt.ylabel('Price (in 1000s of dollars)')\n",
    "# Set the x-axis label\n",
    "plt.xlabel('Size (1000 sqft)')\n",
    "plt.legend()\n",
    "plt.show()"
   ]
  },
  {
   "cell_type": "markdown",
   "id": "3dd76d96",
   "metadata": {},
   "source": [
    "Setting w = 100 and b = 100 does not fit the result \n",
    "\n",
    "Experimenting with different values of w and b"
   ]
  },
  {
   "cell_type": "code",
   "execution_count": 10,
   "id": "b7daa02b",
   "metadata": {},
   "outputs": [
    {
     "name": "stdout",
     "output_type": "stream",
     "text": [
      "w: 100\n",
      "b: 200\n"
     ]
    }
   ],
   "source": [
    "w = 100\n",
    "b = 200\n",
    "print(f\"w: {w}\")\n",
    "print(f\"b: {b}\")"
   ]
  },
  {
   "cell_type": "code",
   "execution_count": 11,
   "id": "1c593fd3",
   "metadata": {},
   "outputs": [
    {
     "name": "stdout",
     "output_type": "stream",
     "text": [
      "[300. 400.]\n"
     ]
    }
   ],
   "source": [
    "tmp_f_wb = calculate_model_output(w, b, x_train)\n",
    "print(tmp_f_wb)"
   ]
  },
  {
   "cell_type": "code",
   "execution_count": 12,
   "id": "1b8c7193",
   "metadata": {},
   "outputs": [
    {
     "data": {
      "image/png": "[encoded data removed]",
      "text/plain": [
       "<Figure size 432x288 with 1 Axes>"
      ]
     },
     "metadata": {
      "needs_background": "light"
     },
     "output_type": "display_data"
    }
   ],
   "source": [
    "# Plot our model prediction\n",
    "plt.plot(x_train, tmp_f_wb, c='b', label='Our Prediction')\n",
    "\n",
    "# PLot the data points\n",
    "plt.scatter(x_train, y_train, marker='x', c='r', label='Actual Prediction')\n",
    "\n",
    "# Set the title\n",
    "plt.title(\"Housing Price\")\n",
    "# Set the y-axis label\n",
    "plt.ylabel('Price (in 1000s of dollars)')\n",
    "# Set the x-axis label\n",
    "plt.xlabel('Size (1000 sqft)')\n",
    "plt.legend()\n",
    "plt.show()"
   ]
  },
  {
   "cell_type": "markdown",
   "id": "9bcfc8f4",
   "metadata": {},
   "source": [
    "#### Prediction:\n",
    "Let us predict the price of house with 1200 sq.ft."
   ]
  },
  {
   "cell_type": "code",
   "execution_count": 14,
   "id": "6efdbf37",
   "metadata": {},
   "outputs": [
    {
     "name": "stdout",
     "output_type": "stream",
     "text": [
      "Cost of 1200 sq.ft house: $ 320 thousand dollars\n"
     ]
    }
   ],
   "source": [
    "cost_1200sqft = w * 1.200 + b\n",
    "print(f\"Cost of 1200 sq.ft house: ${cost_1200sqft: .0f} thousand dollars\")"
   ]
  },
  {
   "cell_type": "markdown",
   "id": "a9d8145e",
   "metadata": {},
   "source": [
    "### Conclusion:\n",
    "Linear Regression builds a model which establishes a relationship between features and targets\n",
    "* In above example, feature was house size and target was house price.\n",
    "* For simple linear regression, the model has two parameters w and b whose values are 'fit' using training data.\n",
    "* Once a model's parameters have been determined, the model can be used to make predictions on novel data"
   ]
  }
 ],
 "metadata": {
  "kernelspec": {
   "display_name": "Python 3 (ipykernel)",
   "language": "python",
   "name": "python3"
  },
  "language_info": {
   "codemirror_mode": {
    "name": "ipython",
    "version": 3
   },
   "file_extension": ".py",
   "mimetype": "text/x-python",
   "name": "python",
   "nbconvert_exporter": "python",
   "pygments_lexer": "ipython3",
   "version": "3.9.7"
  }
 },
 "nbformat": 4,
 "nbformat_minor": 5
}
